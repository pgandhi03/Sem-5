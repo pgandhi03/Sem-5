{
 "cells": [
  {
   "cell_type": "code",
   "execution_count": 119,
   "metadata": {},
   "outputs": [],
   "source": [
    "import math"
   ]
  },
  {
   "cell_type": "code",
   "execution_count": 120,
   "metadata": {},
   "outputs": [],
   "source": [
    "#Vigenere Cipher\n",
    "\n",
    "def ende(text,key,choice):\n",
    "    text = text.upper()\n",
    "    key = key.upper()\n",
    "    \n",
    "    #functions to change letter to respective int value and vice versa\n",
    "    to_num = lambda x: ord(x)-65\n",
    "    to_str = lambda x: chr(x+65)\n",
    "\n",
    "    #converting key to list of numbers and extending it as much is required for text\n",
    "    key_list = list(map(to_num,list(key)))                \n",
    "    key_list = key_list * math.ceil(len(text)/len(key_list))\n",
    "    \n",
    "    #converting text to list of number(\" \" will become -33(32-65))\n",
    "    text_list = list(map(to_num,list(text)))               \n",
    "    final_list = []\n",
    "    counter = 0              #counter for key list\n",
    "    \n",
    "    for i in text_list:\n",
    "        if(i == -33):        #for space(\" \")\n",
    "            appen = -33\n",
    "        else:\n",
    "            if(choice == 1):\n",
    "                appen = (i + key_list[counter]) % 26       #encryption formula\n",
    "            else:\n",
    "                appen = (i - key_list[counter] + 26) % 26  #decryption formula\n",
    "\n",
    "            counter += 1\n",
    "        final_list.append(appen)\n",
    "    return \"\".join(list(map(to_str,final_list)))    #joining final list after converting all values to letter"
   ]
  },
  {
   "cell_type": "code",
   "execution_count": 121,
   "metadata": {},
   "outputs": [],
   "source": [
    "import tkinter as tk"
   ]
  },
  {
   "cell_type": "code",
   "execution_count": 122,
   "metadata": {},
   "outputs": [],
   "source": [
    "def decrypt():\n",
    "    text = txt.get()\n",
    "    key = keyy.get()\n",
    "    choice = 2\n",
    "    dec = ende(text,key,choice)\n",
    "    L3.configure(text = \"Decrypted Text\")\n",
    "    L4.configure(text = dec, bg = \"black\", fg= \"white\")    \n",
    "    \n",
    "def encrypt():\n",
    "    text = txt.get()\n",
    "    key = keyy.get()\n",
    "    choice = 1\n",
    "    enc = ende(text,key,choice)\n",
    "    L3.configure(text = \"Encrypted Text\")\n",
    "    L4.configure(text = enc, bg = \"black\", fg= \"white\")    "
   ]
  },
  {
   "cell_type": "code",
   "execution_count": 123,
   "metadata": {},
   "outputs": [],
   "source": [
    "root = tk.Tk()"
   ]
  },
  {
   "cell_type": "code",
   "execution_count": 124,
   "metadata": {},
   "outputs": [],
   "source": [
    "root.geometry(\"400x400\")\n",
    "root.title(\"Vignere\")\n",
    "L1 = tk.Label(root,text = \"Enter Text   \")\n",
    "L1.grid(row = \"0\",column = \"0\")\n",
    "L2 = tk.Label(root,text = \"Enter Key    \")\n",
    "L2.grid(row = \"1\",column = \"0\")\n",
    "txt = tk.StringVar()\n",
    "E1 = tk.Entry(root, textvar = txt)\n",
    "E1.grid(row = \"0\", column = \"1\")\n",
    "keyy = tk.StringVar()\n",
    "E2 = tk.Entry(root, textvar = keyy)\n",
    "E2.grid(row = \"1\", column = \"1\")\n",
    "tk.Label(root, text=\" \").grid(row = \"2\",column=\"0\")\n",
    "tk.Button(root, text = \"Encrypt\", command = encrypt).grid(row = \"3\",column = \"0\")\n",
    "tk.Button(root, text = \"Decrypt\", command = decrypt).grid(row = \"3\",column = \"1\")\n",
    "\n",
    "tk.Label(root).grid(row=\"4\",column=\"0\")\n",
    "L3 = tk.Label(root,text = \"  \")\n",
    "L3.grid(row = \"5\",column = \"2\")\n",
    "L4 = tk.Label(root,text = \" \")\n",
    "L4.grid(row = \"6\",column = \"2\")\n"
   ]
  },
  {
   "cell_type": "code",
   "execution_count": 125,
   "metadata": {},
   "outputs": [],
   "source": [
    "root.mainloop()"
   ]
  },
  {
   "cell_type": "code",
   "execution_count": null,
   "metadata": {},
   "outputs": [],
   "source": []
  },
  {
   "cell_type": "code",
   "execution_count": 43,
   "metadata": {},
   "outputs": [],
   "source": [
    "import random"
   ]
  },
  {
   "cell_type": "code",
   "execution_count": 126,
   "metadata": {},
   "outputs": [
    {
     "name": "stdout",
     "output_type": "stream",
     "text": [
      "Enter text: 001011010111\n",
      "Enter \n",
      "1 To enter your key manually\n",
      "2 To Pick a random key\n",
      "1\n",
      "Enter key of same length as text: 100111001011\n",
      "101100011100\n"
     ]
    }
   ],
   "source": [
    "#Vernam one-time pad (Additive cipher)\n",
    "text = list(map(int,input(\"Enter text: \")))\n",
    "print(\"Enter \\n1 To enter your key manually\\n2 To Pick a random key\")\n",
    "choice = int(input())\n",
    "if(choice == 1):\n",
    "    key = list(map(int,input(\"Enter key of same length as text: \")))    \n",
    "elif(choice == 2):\n",
    "    key = random.choices([0,1], k = len(text))\n",
    "    print(\"Key: \",\"\".join(list(map(str,key))))\n",
    "final = \"\"\n",
    "for i in range(len(key)):\n",
    "    final += str(text[i]^key[i])\n",
    "print(final)"
   ]
  },
  {
   "cell_type": "code",
   "execution_count": null,
   "metadata": {},
   "outputs": [],
   "source": []
  }
 ],
 "metadata": {
  "kernelspec": {
   "display_name": "Python 3",
   "language": "python",
   "name": "python3"
  },
  "language_info": {
   "codemirror_mode": {
    "name": "ipython",
    "version": 3
   },
   "file_extension": ".py",
   "mimetype": "text/x-python",
   "name": "python",
   "nbconvert_exporter": "python",
   "pygments_lexer": "ipython3",
   "version": "3.6.5"
  }
 },
 "nbformat": 4,
 "nbformat_minor": 2
}
