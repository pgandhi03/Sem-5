{
 "cells": [
  {
   "cell_type": "markdown",
   "metadata": {
    "colab_type": "text",
    "id": "zgRloZeiGSZg"
   },
   "source": [
    "# ENCRYPTION IN AFFINE CIPHER"
   ]
  },
  {
   "cell_type": "code",
   "execution_count": null,
   "metadata": {
    "colab": {
     "base_uri": "https://localhost:8080/",
     "height": 119
    },
    "colab_type": "code",
    "executionInfo": {
     "elapsed": 8885,
     "status": "ok",
     "timestamp": 1598602198726,
     "user": {
      "displayName": "Priyanshu Prasad",
      "photoUrl": "https://lh3.googleusercontent.com/a-/AOh14GgLx3oB14KOLg5_oIMXVSwh_-TJt5J4y-gMnDLw=s64",
      "userId": "07873572392897520601"
     },
     "user_tz": -330
    },
    "id": "ujs60T_E5Jgb",
    "outputId": "4cfe226a-2369-4de7-f6a3-1cdc605fb18d"
   },
   "outputs": [
    {
     "name": "stdout",
     "output_type": "stream",
     "text": [
      "Enter the values of a & b (Key) \n",
      "\n",
      "a :17\n",
      "b :20\n",
      "Enter message to Encrypt :THIS IS AFFINE CIPHER\n",
      "Encrypted Message : FJAO AO UBBAHK CAPJKX\n"
     ]
    }
   ],
   "source": [
    "\n",
    "def egcd(a, b): \n",
    "    x,y, u,v = 0,1, 1,0\n",
    "    while a != 0: \n",
    "        q, r = b//a, b%a \n",
    "        m, n = x-u*q, y-v*q \n",
    "        b,a, x,y, u,v = a,r, u,v, m,n \n",
    "    gcd = b \n",
    "    return gcd, x, y \n",
    "print('Enter the values of a & b (Key) \\n')\n",
    "a=int(input('a :'))\n",
    "b=int(input('b :'))\n",
    "x,n1,n2=egcd(a,26)\n",
    "txt=input('Enter message to Encrypt :')\n",
    "txt=txt.upper()\n",
    "if x==1:\n",
    "  str=''\n",
    "  for i in txt:\n",
    "    if i ==' ':\n",
    "      str+=' '\n",
    "      \n",
    "    else:\n",
    "      str=str+chr((((a* (ord(i)-ord('A'))) +b) %26) +ord('A'))\n",
    "else:\n",
    "  print('Wrong key')\n",
    "  \n",
    "print('Encrypted Message :' ,str)\n",
    "\n",
    "\n"
   ]
  },
  {
   "cell_type": "markdown",
   "metadata": {
    "colab_type": "text",
    "id": "UYKzpfE4GCyv"
   },
   "source": [
    "# DECRYPTION IN AFFINE CIPHER\n"
   ]
  },
  {
   "cell_type": "code",
   "execution_count": null,
   "metadata": {
    "colab": {
     "base_uri": "https://localhost:8080/",
     "height": 136
    },
    "colab_type": "code",
    "executionInfo": {
     "elapsed": 5919,
     "status": "ok",
     "timestamp": 1598602209773,
     "user": {
      "displayName": "Priyanshu Prasad",
      "photoUrl": "https://lh3.googleusercontent.com/a-/AOh14GgLx3oB14KOLg5_oIMXVSwh_-TJt5J4y-gMnDLw=s64",
      "userId": "07873572392897520601"
     },
     "user_tz": -330
    },
    "id": "6J1vLeHJ7Tfz",
    "outputId": "bac1dc52-8138-4096-9b83-133738a7a7d8"
   },
   "outputs": [
    {
     "name": "stdout",
     "output_type": "stream",
     "text": [
      "Enter Message to be Encrypted\n",
      "Enter the values of a & b (Key) \n",
      "\n",
      "a :17\n",
      "b :20\n",
      "Enter message to Decrypt :FJAO AO UBBAHK CAPJKX\n",
      "Decrypted Message : THIS IS AFFINE CIPHER\n"
     ]
    }
   ],
   "source": [
    "\n",
    "print(\"Enter Message to be Encrypted\")\n",
    "print('Enter the values of a & b (Key) \\n')\n",
    "a=int(input('a :'))\n",
    "b=int(input('b :'))\n",
    "x=compute_hcf(a,26)\n",
    "txt=input('Enter message to Decrypt :')\n",
    "def modinv(a, m): \n",
    "    gcd, x, y = egcd(a, m) \n",
    "    if gcd != 1: \n",
    "        return None  \n",
    "    else: \n",
    "        return x % m \n",
    "if(x==1):\n",
    "  str=''\n",
    "  inv=modinv(a,26)\n",
    "  for i in txt:\n",
    "    if i==' ':\n",
    "      str=str+' '\n",
    "    else:\n",
    "        str=str+chr(((inv*(ord(i)-b-ord('A')))%26)+65)\n",
    "else:\n",
    "  print(\"Wrong key\")\n",
    "\n",
    "print('Decrypted Message :' ,str)\n",
    "\n"
   ]
  },
  {
   "cell_type": "markdown",
   "metadata": {
    "colab_type": "text",
    "id": "vR6uds-iG0S4"
   },
   "source": [
    "# PlayFair Cipher - Encryption\n"
   ]
  },
  {
   "cell_type": "code",
   "execution_count": 3,
   "metadata": {
    "colab": {},
    "colab_type": "code",
    "executionInfo": {
     "elapsed": 1708,
     "status": "ok",
     "timestamp": 1598780299336,
     "user": {
      "displayName": "Priyanshu Prasad",
      "photoUrl": "https://lh3.googleusercontent.com/a-/AOh14GgLx3oB14KOLg5_oIMXVSwh_-TJt5J4y-gMnDLw=s64",
      "userId": "07873572392897520601"
     },
     "user_tz": -330
    },
    "id": "xhCoXITvFfgT"
   },
   "outputs": [],
   "source": [
    "import numpy as np\n",
    "def check(matrix,pt):\n",
    "    pt=list(pt)\n",
    "    for i in range(5):\n",
    "        if(pt[0] in matrix[:,i] and pt[1] in matrix[:,i]):\n",
    "            return 0\n",
    "        elif(pt[0] in matrix[i,:] and pt[1] in matrix[i,:]):\n",
    "            return 1\n",
    "    return 2\n",
    "def returninda(matrix,pt):\n",
    "    pt=list(pt)\n",
    "    for i in range(5):\n",
    "        if(pt[0] in matrix[:,i] and pt[1] in matrix[:,i]):\n",
    "            return i\n",
    "        elif(pt[0] in matrix[i,:] and pt[1] in matrix[i,:]):\n",
    "            return i\n",
    "def returnindb(matrix,pt):\n",
    "    pt=list(pt)\n",
    "    for i in range(5):\n",
    "        if(pt[0] in matrix[:,i] and pt[1] in matrix[:,i]):\n",
    "            return [list(matrix[:,i]).index(pt[0]),list(matrix[:,i]).index(pt[1])]\n",
    "        elif(pt[0] in matrix[i,:] and pt[1] in matrix[i,:]):\n",
    "            return [list(matrix[i,:]).index(pt[0]),list(matrix[i,:]).index(pt[1])]\n"
   ]
  },
  {
   "cell_type": "code",
   "execution_count": 5,
   "metadata": {
    "colab": {
     "base_uri": "https://localhost:8080/",
     "height": 153
    },
    "colab_type": "code",
    "executionInfo": {
     "elapsed": 27326,
     "status": "ok",
     "timestamp": 1598780403961,
     "user": {
      "displayName": "Priyanshu Prasad",
      "photoUrl": "https://lh3.googleusercontent.com/a-/AOh14GgLx3oB14KOLg5_oIMXVSwh_-TJt5J4y-gMnDLw=s64",
      "userId": "07873572392897520601"
     },
     "user_tz": -330
    },
    "id": "LWNAo9_ZBVUf",
    "outputId": "b399324a-3da9-40c1-fb5b-359d864c1fa1"
   },
   "outputs": [
    {
     "name": "stdout",
     "output_type": "stream",
     "text": [
      "Enter number of times you want to execute the program 1\n",
      "Enter plaintext gatlmzclrqtx\n",
      "Enter key Monarchy\n",
      "1 - Encrypt \n",
      "2 - Decrypt\n",
      "Enter Choice: 2\n",
      "Decrypted text - instrumentsz\n",
      "\n"
     ]
    }
   ],
   "source": [
    "number=int(input(\"Enter number of times you want to execute the program \"))\n",
    "t=0\n",
    "while(t!=number):\n",
    "    plaintext=input(\"Enter plaintext \").lower()\n",
    "    if(len(plaintext)%2!=0):\n",
    "        plaintext+='z'\n",
    "    newpt=[]\n",
    "    for i in range(len(plaintext)):\n",
    "        if(i%2==0):\n",
    "            newpt.append(plaintext[i]+plaintext[i+1])\n",
    "    key=input(\"Enter key \").lower()\n",
    "    alphabets=[chr(i+97) for i in range(26)]\n",
    "    alphabets2=[alphabets.remove(i) for i in list(key)]\n",
    "    alphabets.remove('j')\n",
    "    keymatrix=np.empty(25, dtype = str) \n",
    "    c=0\n",
    "    for i in key:\n",
    "        keymatrix[c]=i\n",
    "        c+=1\n",
    "    c=len(key)\n",
    "    for i in alphabets:\n",
    "        keymatrix[c]=i\n",
    "        c+=1\n",
    "    keymatrix=keymatrix.reshape(5,5)\n",
    "    ch=int(input(\"1 - Encrypt \\n2 - Decrypt\\nEnter Choice: \")) \n",
    "    if(ch==1):\n",
    "        encrypted=\"\"\n",
    "        for pt in newpt:\n",
    "            pt=list(pt)\n",
    "            if(pt[0]=='j'):\n",
    "                encrypted+='i'\n",
    "            if(pt[1]=='j'):\n",
    "                encrypted+='i'\n",
    "            for i in range(5):\n",
    "                if(pt[0] in list(keymatrix[:,i]) and pt[1] in list(keymatrix[:,i])):\n",
    "                    row=returnindb(keymatrix,pt)\n",
    "                    column=returninda(keymatrix,pt)\n",
    "                    encrypted+=keymatrix[(row[0]+1)%5,column]+keymatrix[(row[1]+1)%5,column]\n",
    "                elif(pt[0] in list(keymatrix[i,:]) and pt[1] in list(keymatrix[i,:])):\n",
    "                    row=returnindb(keymatrix,pt)\n",
    "                    column=returninda(keymatrix,pt)\n",
    "                    encrypted+=keymatrix[column,(row[0]+1)%5]+keymatrix[column,(row[1]+1)%5]\n",
    "            if(check(keymatrix,pt)==2):\n",
    "                i1, j1 = np.where(keymatrix==pt[0])\n",
    "                i2, j2 = np.where(keymatrix==pt[1])\n",
    "                encrypted+=keymatrix[sum(i1),sum(j2)]\n",
    "                encrypted+=keymatrix[sum(i2),sum(j1)]\n",
    "        print(\"Ciphertext -\",encrypted)\n",
    "        print()\n",
    "    elif(ch==2):\n",
    "        alphabets=[chr(i+97) for i in range(26)]\n",
    "        alphabets2=[alphabets.remove(i) for i in list(key)]\n",
    "        alphabets.remove('j')\n",
    "        keymatrix=np.empty(25, dtype = str) \n",
    "        c=0\n",
    "        for i in key:\n",
    "            keymatrix[c]=i\n",
    "            c+=1\n",
    "        c=len(key)\n",
    "        for i in alphabets:\n",
    "            keymatrix[c]=i\n",
    "            c+=1\n",
    "        keymatrix=keymatrix.reshape(5,5)\n",
    "        decrypted=\"\"\n",
    "        newpt=[]\n",
    "        for i in range(len(plaintext)):\n",
    "            if(i%2==0):\n",
    "                newpt.append(plaintext[i]+plaintext[i+1])\n",
    "        for pt in newpt:\n",
    "            pt=list(pt)\n",
    "            if(pt[0]=='i'):\n",
    "                decrypted+='j'\n",
    "            if(pt[1]=='i'):\n",
    "                decrypted+='j'\n",
    "            for i in range(5):\n",
    "                if(pt[0] in list(keymatrix[:,i]) and pt[1] in list(keymatrix[:,i])):\n",
    "                    row=returnindb(keymatrix,pt)\n",
    "                    column=returninda(keymatrix,pt)\n",
    "                    decrypted+=keymatrix[(row[0]-1)%5,column]+keymatrix[(row[1]-1)%5,column]\n",
    "                elif(pt[0] in list(keymatrix[i,:]) and pt[1] in list(keymatrix[i,:])):\n",
    "                    row=returnindb(keymatrix,pt)\n",
    "                    column=returninda(keymatrix,pt)\n",
    "                    decrypted+=keymatrix[column,(row[0]-1)%5]+keymatrix[column,(row[1]-1)%5]\n",
    "            if(check(keymatrix,pt)==2):\n",
    "                i1, j1 = np.where(keymatrix==pt[0])\n",
    "                i2, j2 = np.where(keymatrix==pt[1])\n",
    "                decrypted+=keymatrix[sum(i1),sum(j2)]\n",
    "                decrypted+=keymatrix[sum(i2),sum(j1)]\n",
    "        print(\"Decrypted text -\",decrypted)\n",
    "        print()\n",
    "    else:\n",
    "        print()\n",
    "        print(\"Option not available\")\n",
    "    t+=1\n"
   ]
  },
  {
   "cell_type": "code",
   "execution_count": null,
   "metadata": {
    "colab": {
     "base_uri": "https://localhost:8080/",
     "height": 85
    },
    "colab_type": "code",
    "executionInfo": {
     "elapsed": 1305,
     "status": "ok",
     "timestamp": 1598604793315,
     "user": {
      "displayName": "Priyanshu Prasad",
      "photoUrl": "https://lh3.googleusercontent.com/a-/AOh14GgLx3oB14KOLg5_oIMXVSwh_-TJt5J4y-gMnDLw=s64",
      "userId": "07873572392897520601"
     },
     "user_tz": -330
    },
    "id": "ts2pH9w2MfBm",
    "outputId": "05ef2298-b278-4b1f-9e5d-97e87a8e445c"
   },
   "outputs": [
    {
     "name": "stdout",
     "output_type": "stream",
     "text": [
      "d\n",
      "a\n",
      "a\n",
      "d\n"
     ]
    }
   ],
   "source": [
    "\n",
    "    "
   ]
  },
  {
   "cell_type": "code",
   "execution_count": null,
   "metadata": {
    "colab": {},
    "colab_type": "code",
    "id": "S-XczZE2QgIX"
   },
   "outputs": [],
   "source": [
    ""
   ]
  }
 ],
 "metadata": {
  "colab": {
   "authorship_tag": "ABX9TyPb74+fk8dkctDpu0M92O+J",
   "collapsed_sections": [],
   "name": "Crypto Lab2.ipynb",
   "provenance": []
  },
  "kernelspec": {
   "display_name": "Python 3",
   "name": "python3"
  }
 },
 "nbformat": 4,
 "nbformat_minor": 0
}
