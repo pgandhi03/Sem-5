{
 "cells": [
  {
   "cell_type": "code",
   "execution_count": 1,
   "metadata": {},
   "outputs": [],
   "source": [
    "import cv2"
   ]
  },
  {
   "cell_type": "code",
   "execution_count": 2,
   "metadata": {},
   "outputs": [],
   "source": [
    "from sklearn.model_selection import train_test_split\n",
    "from sklearn.linear_model import LogisticRegression"
   ]
  },
  {
   "cell_type": "code",
   "execution_count": 3,
   "metadata": {},
   "outputs": [],
   "source": [
    "import matplotlib.pyplot as plt"
   ]
  },
  {
   "cell_type": "code",
   "execution_count": 4,
   "metadata": {},
   "outputs": [],
   "source": [
    "#taking 15 images each from 101 to 115\n",
    "def all(dim):\n",
    "    data = []\n",
    "    output = []\n",
    "    for i in range(15):\n",
    "        output.append(0)\n",
    "        output.append(1) \n",
    "    for i in range(1,16):\n",
    "        if(i<=9):\n",
    "            a = \"0\"+str(i)\n",
    "        else:\n",
    "            a = str(i)\n",
    "        img = cv2.imread(\"Data/Cat/cat.1\"+a+\".jpg\")\n",
    "        img.resize(dim,dim,3)\n",
    "        img = img.flatten()\n",
    "        data.append(img)\n",
    "\n",
    "\n",
    "        img = cv2.imread(\"Data/Dog/dog.1\"+a+\".jpg\")\n",
    "        img.resize(dim,dim,3)\n",
    "        img = img.flatten()\n",
    "        data.append(img)\n",
    "    xtrain, xtest, ytrain, ytest = train_test_split(data,output, test_size = 0.25)\n",
    "    model = LogisticRegression()    \n",
    "    model.fit(xtrain,ytrain)    \n",
    "    a = model.score(xtest,ytest)    \n",
    "    b = model.score(xtrain,ytrain)\n",
    "    return a,b\n"
   ]
  },
  {
   "cell_type": "code",
   "execution_count": 5,
   "metadata": {},
   "outputs": [],
   "source": [
    "li = [10,25,50,100,500]\n",
    "test = []\n",
    "train = []\n",
    "for i in li:\n",
    "    a,b = all(i)\n",
    "    test.append(a)\n",
    "    train.append(b)"
   ]
  },
  {
   "cell_type": "code",
   "execution_count": 16,
   "metadata": {},
   "outputs": [
    {
     "data": {
      "image/png": "[encoded data removed]",
      "text/plain": [
       "<Figure size 432x288 with 1 Axes>"
      ]
     },
     "metadata": {},
     "output_type": "display_data"
    }
   ],
   "source": [
    "# plt.plot()\n",
    "plt.bar(list(map(str,li)), train, label = \"Training data\")\n",
    "plt.bar(list(map(str,li)), test, label = \"Testing data\")\n",
    "plt.xlabel(\"Dimension\", fontsize = \"14\")\n",
    "plt.ylabel(\"Accuracy\", fontsize = \"14\")\n",
    "plt.legend()\n",
    "plt.show()"
   ]
  },
  {
   "cell_type": "code",
   "execution_count": null,
   "metadata": {},
   "outputs": [],
   "source": []
  },
  {
   "cell_type": "code",
   "execution_count": null,
   "metadata": {},
   "outputs": [],
   "source": []
  },
  {
   "cell_type": "code",
   "execution_count": null,
   "metadata": {},
   "outputs": [],
   "source": []
  }
 ],
 "metadata": {
  "kernelspec": {
   "display_name": "Python 3",
   "language": "python",
   "name": "python3"
  },
  "language_info": {
   "codemirror_mode": {
    "name": "ipython",
    "version": 3
   },
   "file_extension": ".py",
   "mimetype": "text/x-python",
   "name": "python",
   "nbconvert_exporter": "python",
   "pygments_lexer": "ipython3",
   "version": "3.6.5"
  }
 },
 "nbformat": 4,
 "nbformat_minor": 2
}
